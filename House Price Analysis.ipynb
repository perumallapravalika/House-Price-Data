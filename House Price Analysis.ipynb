{
 "cells": [
  {
   "cell_type": "code",
   "execution_count": 1,
   "id": "f9471400",
   "metadata": {},
   "outputs": [],
   "source": [
    "import pandas as pd\n",
    "import numpy as np\n",
    "from sklearn.model_selection import train_test_split\n",
    "from sklearn.preprocessing import StandardScaler\n",
    "import warnings\n",
    "from sklearn.linear_model import LinearRegression\n",
    "\n",
    "from sklearn.metrics import r2_score\n",
    "warnings.filterwarnings('ignore')"
   ]
  },
  {
   "cell_type": "code",
   "execution_count": 4,
   "id": "7c9d9140",
   "metadata": {},
   "outputs": [],
   "source": [
    "hp_df=pd.read_csv('House price train.csv')\n",
    "\n",
    "y=hp_df['SalePrice']"
   ]
  },
  {
   "cell_type": "code",
   "execution_count": null,
   "id": "238db61a",
   "metadata": {},
   "outputs": [],
   "source": [
    "# identifying cols with NAs greater than 50 percentage(no such rule)\n",
    "\n",
    "\n",
    "na_df=pd.DataFrame({'col_name':hp_df.columns,'na_pc':hp_df.isnull().sum()/hp_df.shape[0]*100})\n",
    "\n",
    "col_grt50pc_nas=list(na_df[na_df['na_pc']>50]['col_name'])"
   ]
  },
  {
   "cell_type": "code",
   "execution_count": 84,
   "id": "d7fb720f",
   "metadata": {},
   "outputs": [
    {
     "data": {
      "text/plain": [
       "['Id', 'Alley', 'PoolQC', 'Fence', 'MiscFeature', 'SalePrice']"
      ]
     },
     "execution_count": 84,
     "metadata": {},
     "output_type": "execute_result"
    }
   ],
   "source": [
    "# identifying the non sense columns\n",
    "cols_to_drop=[]\n",
    "for col in hp_df.columns:\n",
    "    if hp_df[col].nunique()==1 or hp_df[col].nunique()==hp_df.shape[0]:\n",
    "        cols_to_drop.append(col)\n",
    "        \n",
    "cols_to_drop=cols_to_drop+col_grt50pc_nas\n",
    "\n",
    "cols_to_drop.append('SalePrice')\n",
    "\n",
    "cols_to_drop"
   ]
  },
  {
   "cell_type": "code",
   "execution_count": 85,
   "id": "e555fc91",
   "metadata": {},
   "outputs": [],
   "source": [
    "hp_df.drop(columns=cols_to_drop,inplace=True)# dropping all the identified columns(from the above steps)"
   ]
  },
  {
   "cell_type": "code",
   "execution_count": 86,
   "id": "54c3abcc",
   "metadata": {},
   "outputs": [],
   "source": [
    "# Train Test Split\n",
    "\n",
    "X_train,X_test,y_train,y_test=train_test_split(hp_df,y,test_size=0.2,random_state=42)"
   ]
  },
  {
   "cell_type": "code",
   "execution_count": 87,
   "id": "e0bd1beb",
   "metadata": {},
   "outputs": [],
   "source": [
    "cat_cols=[col for col in hp_df.columns if hp_df[col].dtype=='object']\n",
    "con_cols=[col for col in hp_df.columns if hp_df[col].dtype=='int64' or hp_df[col].dtype=='float64']"
   ]
  },
  {
   "cell_type": "code",
   "execution_count": 88,
   "id": "bc8759ba",
   "metadata": {},
   "outputs": [],
   "source": [
    "# Filling missing values(mean for the continuous variables, mode for the categoricals)\n",
    "\n",
    "for col in con_cols:\n",
    "    X_train[col].fillna(X_train[col].mean(),inplace=True)\n",
    "    X_test[col].fillna(X_train[col].mean(),inplace=True)# filling the test as well with train mean\n",
    "    \n",
    "    \n",
    "for col in cat_cols:\n",
    "    X_train[col].fillna(X_train[col].mode()[0],inplace=True)\n",
    "    X_test[col].fillna(X_train[col].mode()[0],inplace=True)\n"
   ]
  },
  {
   "cell_type": "code",
   "execution_count": 89,
   "id": "ec5f6586",
   "metadata": {},
   "outputs": [],
   "source": [
    "# scaling the continuous variables\n",
    "\n",
    "scaler=StandardScaler()\n",
    "\n",
    "for col in con_cols:\n",
    "    X_train[col]=scaler.fit_transform(np.array(X_train[col]).reshape(-1,1))\n",
    "    X_test[col]=scaler.transform(np.array(X_test[col]).reshape(-1,1))\n",
    "    \n",
    "    "
   ]
  },
  {
   "cell_type": "code",
   "execution_count": 90,
   "id": "fc4ac49b",
   "metadata": {},
   "outputs": [],
   "source": [
    "oe_train=pd.get_dummies(X_train[cat_cols])\n",
    "oe_test=pd.get_dummies(X_test[cat_cols])"
   ]
  },
  {
   "cell_type": "code",
   "execution_count": 98,
   "id": "2698ba4b",
   "metadata": {},
   "outputs": [],
   "source": [
    "oe_train_final,oe_test_final=oe_train.align(oe_test,join='inner',axis=1)"
   ]
  },
  {
   "cell_type": "code",
   "execution_count": 100,
   "id": "ea21a617",
   "metadata": {},
   "outputs": [],
   "source": [
    "X_train_final=pd.concat([X_train[con_cols],oe_train_final],axis=1)\n",
    "X_test_final=pd.concat([X_test[con_cols],oe_test_final],axis=1)"
   ]
  },
  {
   "cell_type": "code",
   "execution_count": 113,
   "id": "78107500",
   "metadata": {},
   "outputs": [],
   "source": [
    "linreg=LinearRegression()\n",
    "\n",
    "linreg.fit(X_train_final,y_train)\n",
    "\n",
    "test_pred=linreg.predict(X_test_final)\n",
    "\n",
    "train_pred=linreg.predict(X_train_final)"
   ]
  },
  {
   "cell_type": "code",
   "execution_count": 114,
   "id": "04da8d58",
   "metadata": {},
   "outputs": [
    {
     "name": "stdout",
     "output_type": "stream",
     "text": [
      "Train Score: 0.9081047887784507\n",
      "Test Score: 0.874618595109526\n"
     ]
    }
   ],
   "source": [
    "\n",
    "print('Train Score:',r2_score(y_train,train_pred))\n",
    "print('Test Score:',r2_score(y_test,test_pred))"
   ]
  },
  {
   "cell_type": "code",
   "execution_count": 64,
   "id": "1ed82708",
   "metadata": {},
   "outputs": [
    {
     "data": {
      "text/html": [
       "<div>\n",
       "<style scoped>\n",
       "    .dataframe tbody tr th:only-of-type {\n",
       "        vertical-align: middle;\n",
       "    }\n",
       "\n",
       "    .dataframe tbody tr th {\n",
       "        vertical-align: top;\n",
       "    }\n",
       "\n",
       "    .dataframe thead th {\n",
       "        text-align: right;\n",
       "    }\n",
       "</style>\n",
       "<table border=\"1\" class=\"dataframe\">\n",
       "  <thead>\n",
       "    <tr style=\"text-align: right;\">\n",
       "      <th></th>\n",
       "      <th>Bangalore</th>\n",
       "      <th>Chennai</th>\n",
       "      <th>Hyderabad</th>\n",
       "      <th>Pune</th>\n",
       "    </tr>\n",
       "  </thead>\n",
       "  <tbody>\n",
       "    <tr>\n",
       "      <th>0</th>\n",
       "      <td>0</td>\n",
       "      <td>0</td>\n",
       "      <td>1</td>\n",
       "      <td>0</td>\n",
       "    </tr>\n",
       "    <tr>\n",
       "      <th>1</th>\n",
       "      <td>0</td>\n",
       "      <td>1</td>\n",
       "      <td>0</td>\n",
       "      <td>0</td>\n",
       "    </tr>\n",
       "    <tr>\n",
       "      <th>2</th>\n",
       "      <td>1</td>\n",
       "      <td>0</td>\n",
       "      <td>0</td>\n",
       "      <td>0</td>\n",
       "    </tr>\n",
       "    <tr>\n",
       "      <th>3</th>\n",
       "      <td>0</td>\n",
       "      <td>0</td>\n",
       "      <td>1</td>\n",
       "      <td>0</td>\n",
       "    </tr>\n",
       "    <tr>\n",
       "      <th>4</th>\n",
       "      <td>0</td>\n",
       "      <td>1</td>\n",
       "      <td>0</td>\n",
       "      <td>0</td>\n",
       "    </tr>\n",
       "    <tr>\n",
       "      <th>5</th>\n",
       "      <td>0</td>\n",
       "      <td>0</td>\n",
       "      <td>0</td>\n",
       "      <td>1</td>\n",
       "    </tr>\n",
       "    <tr>\n",
       "      <th>6</th>\n",
       "      <td>1</td>\n",
       "      <td>0</td>\n",
       "      <td>0</td>\n",
       "      <td>0</td>\n",
       "    </tr>\n",
       "  </tbody>\n",
       "</table>\n",
       "</div>"
      ],
      "text/plain": [
       "   Bangalore  Chennai  Hyderabad  Pune\n",
       "0          0        0          1     0\n",
       "1          0        1          0     0\n",
       "2          1        0          0     0\n",
       "3          0        0          1     0\n",
       "4          0        1          0     0\n",
       "5          0        0          0     1\n",
       "6          1        0          0     0"
      ]
     },
     "execution_count": 64,
     "metadata": {},
     "output_type": "execute_result"
    }
   ],
   "source": [
    "train=['Hyderabad','Chennai','Bangalore','Hyderabad','Chennai','Pune','Bangalore']\n",
    "\n",
    "pd.get_dummies(train)"
   ]
  },
  {
   "cell_type": "code",
   "execution_count": 66,
   "id": "10d91c62",
   "metadata": {},
   "outputs": [
    {
     "data": {
      "text/html": [
       "<div>\n",
       "<style scoped>\n",
       "    .dataframe tbody tr th:only-of-type {\n",
       "        vertical-align: middle;\n",
       "    }\n",
       "\n",
       "    .dataframe tbody tr th {\n",
       "        vertical-align: top;\n",
       "    }\n",
       "\n",
       "    .dataframe thead th {\n",
       "        text-align: right;\n",
       "    }\n",
       "</style>\n",
       "<table border=\"1\" class=\"dataframe\">\n",
       "  <thead>\n",
       "    <tr style=\"text-align: right;\">\n",
       "      <th></th>\n",
       "      <th>Ahmedabad</th>\n",
       "      <th>Bangalore</th>\n",
       "      <th>Hyderabad</th>\n",
       "      <th>Kochi</th>\n",
       "      <th>Mumbai</th>\n",
       "    </tr>\n",
       "  </thead>\n",
       "  <tbody>\n",
       "    <tr>\n",
       "      <th>0</th>\n",
       "      <td>0</td>\n",
       "      <td>0</td>\n",
       "      <td>1</td>\n",
       "      <td>0</td>\n",
       "      <td>0</td>\n",
       "    </tr>\n",
       "    <tr>\n",
       "      <th>1</th>\n",
       "      <td>0</td>\n",
       "      <td>0</td>\n",
       "      <td>0</td>\n",
       "      <td>0</td>\n",
       "      <td>1</td>\n",
       "    </tr>\n",
       "    <tr>\n",
       "      <th>2</th>\n",
       "      <td>1</td>\n",
       "      <td>0</td>\n",
       "      <td>0</td>\n",
       "      <td>0</td>\n",
       "      <td>0</td>\n",
       "    </tr>\n",
       "    <tr>\n",
       "      <th>3</th>\n",
       "      <td>0</td>\n",
       "      <td>1</td>\n",
       "      <td>0</td>\n",
       "      <td>0</td>\n",
       "      <td>0</td>\n",
       "    </tr>\n",
       "    <tr>\n",
       "      <th>4</th>\n",
       "      <td>0</td>\n",
       "      <td>0</td>\n",
       "      <td>0</td>\n",
       "      <td>0</td>\n",
       "      <td>1</td>\n",
       "    </tr>\n",
       "    <tr>\n",
       "      <th>5</th>\n",
       "      <td>0</td>\n",
       "      <td>0</td>\n",
       "      <td>1</td>\n",
       "      <td>0</td>\n",
       "      <td>0</td>\n",
       "    </tr>\n",
       "    <tr>\n",
       "      <th>6</th>\n",
       "      <td>0</td>\n",
       "      <td>0</td>\n",
       "      <td>0</td>\n",
       "      <td>1</td>\n",
       "      <td>0</td>\n",
       "    </tr>\n",
       "    <tr>\n",
       "      <th>7</th>\n",
       "      <td>0</td>\n",
       "      <td>0</td>\n",
       "      <td>0</td>\n",
       "      <td>1</td>\n",
       "      <td>0</td>\n",
       "    </tr>\n",
       "  </tbody>\n",
       "</table>\n",
       "</div>"
      ],
      "text/plain": [
       "   Ahmedabad  Bangalore  Hyderabad  Kochi  Mumbai\n",
       "0          0          0          1      0       0\n",
       "1          0          0          0      0       1\n",
       "2          1          0          0      0       0\n",
       "3          0          1          0      0       0\n",
       "4          0          0          0      0       1\n",
       "5          0          0          1      0       0\n",
       "6          0          0          0      1       0\n",
       "7          0          0          0      1       0"
      ]
     },
     "execution_count": 66,
     "metadata": {},
     "output_type": "execute_result"
    }
   ],
   "source": [
    "test=['Hyderabad','Mumbai','Ahmedabad','Bangalore','Mumbai','Hyderabad','Kochi','Kochi']\n",
    "\n",
    "pd.get_dummies(test)"
   ]
  }
 ],
 "metadata": {
  "kernelspec": {
   "display_name": "Python 3",
   "language": "python",
   "name": "python3"
  },
  "language_info": {
   "codemirror_mode": {
    "name": "ipython",
    "version": 3
   },
   "file_extension": ".py",
   "mimetype": "text/x-python",
   "name": "python",
   "nbconvert_exporter": "python",
   "pygments_lexer": "ipython3",
   "version": "3.8.8"
  }
 },
 "nbformat": 4,
 "nbformat_minor": 5
}
